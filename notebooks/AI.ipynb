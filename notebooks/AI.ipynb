{
 "cells": [
  {
   "cell_type": "markdown",
   "id": "d50a62b02cabddca",
   "metadata": {},
   "source": [
    "# AI Test Request 1\n",
    "\n"
   ]
  },
  {
   "cell_type": "code",
   "id": "eb64c091e13ef664",
   "metadata": {
    "ExecuteTime": {
     "end_time": "2025-04-01T23:47:49.019053Z",
     "start_time": "2025-04-01T23:47:35.301952Z"
    }
   },
   "source": [
    "import io, os, sys, types\n",
    "!{sys.executable} -m pip install --upgrade pip\n",
    "!{sys.executable} -m pip install requests\n",
    "import requests\n",
    "import json\n",
    "import uuid  # Import the uuid module\n",
    "from datetime import datetime, timezone  # Import datetime and timezone modules\n",
    "import time  # Import the time module\n"
   ],
   "outputs": [
    {
     "name": "stdout",
     "output_type": "stream",
     "text": [
      "Requirement already satisfied: pip in /Library/Frameworks/Python.framework/Versions/3.12/lib/python3.12/site-packages (25.0.1)\r\n",
      "Requirement already satisfied: requests in /Library/Frameworks/Python.framework/Versions/3.12/lib/python3.12/site-packages (2.32.3)\r\n",
      "Requirement already satisfied: charset-normalizer<4,>=2 in /Library/Frameworks/Python.framework/Versions/3.12/lib/python3.12/site-packages (from requests) (3.4.1)\r\n",
      "Requirement already satisfied: idna<4,>=2.5 in /Library/Frameworks/Python.framework/Versions/3.12/lib/python3.12/site-packages (from requests) (3.10)\r\n",
      "Requirement already satisfied: urllib3<3,>=1.21.1 in /Library/Frameworks/Python.framework/Versions/3.12/lib/python3.12/site-packages (from requests) (2.3.0)\r\n",
      "Requirement already satisfied: certifi>=2017.4.17 in /Library/Frameworks/Python.framework/Versions/3.12/lib/python3.12/site-packages (from requests) (2025.1.31)\r\n"
     ]
    }
   ],
   "execution_count": 8
  },
  {
   "cell_type": "code",
   "id": "90d10ae3923769c9",
   "metadata": {
    "ExecuteTime": {
     "end_time": "2025-04-01T23:52:17.052789Z",
     "start_time": "2025-04-01T23:52:16.998931Z"
    }
   },
   "source": [
    "#Localhost Server URL\n",
    "server_base_url = \"http://localhost:8080\"\n",
    "\n",
    "endpoint = \"/ai\"\n",
    "url = f\"{server_base_url}{endpoint}\"\n",
    "\n",
    "# Define the headers\n",
    "headers = {\n",
    "    #'Content-Type': 'application/json'  # Specify the content type as JSON\n",
    "}\n",
    "print(\"--------------Headers: --------------\\n\", headers)\n"
   ],
   "outputs": [
    {
     "name": "stdout",
     "output_type": "stream",
     "text": [
      "--------------Headers: --------------\n",
      " {}\n"
     ]
    }
   ],
   "execution_count": 12
  },
  {
   "cell_type": "markdown",
   "id": "1d0ed4148e7ac1d0",
   "metadata": {},
   "source": "## 1. Execute query request to ai"
  },
  {
   "cell_type": "code",
   "id": "bba55941318d0910",
   "metadata": {
    "ExecuteTime": {
     "end_time": "2025-04-01T23:59:29.454343Z",
     "start_time": "2025-04-01T23:59:28.706972Z"
    }
   },
   "source": [
    "params = {'message': 'Say hello in spanish', 'voice': 'Robert DeNiro'}\n",
    "\n",
    "# Send the POST request with raw JSON data\n",
    "response = requests.get(url, params=params)\n",
    "\n",
    "response.json() # Print the response JSON\n"
   ],
   "outputs": [
    {
     "data": {
      "text/plain": [
       "{'completion': 'Ahoy, matey! In Spanish, ye’d say \"¡Hola!\" Arrr!'}"
      ]
     },
     "execution_count": 21,
     "metadata": {},
     "output_type": "execute_result"
    }
   ],
   "execution_count": 21
  }
 ],
 "metadata": {
  "kernelspec": {
   "display_name": "Python 3",
   "language": "python",
   "name": "python3"
  },
  "language_info": {
   "codemirror_mode": {
    "name": "ipython",
    "version": 3
   },
   "file_extension": ".py",
   "mimetype": "text/x-python",
   "name": "python",
   "nbconvert_exporter": "python",
   "pygments_lexer": "ipython3",
   "version": "3.12.8"
  }
 },
 "nbformat": 5,
 "nbformat_minor": 9
}
