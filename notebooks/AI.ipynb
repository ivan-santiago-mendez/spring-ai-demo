{
 "cells": [
  {
   "cell_type": "markdown",
   "id": "d50a62b02cabddca",
   "metadata": {},
   "source": [
    "# AI Test Requests\n",
    "\n"
   ]
  },
  {
   "cell_type": "code",
   "id": "eb64c091e13ef664",
   "metadata": {
    "ExecuteTime": {
     "end_time": "2025-04-04T17:09:00.145528Z",
     "start_time": "2025-04-04T17:07:24.376001Z"
    }
   },
   "source": [
    "import io, os, sys, types\n",
    "!{sys.executable} -m pip install --upgrade pip\n",
    "!{sys.executable} -m pip install requests\n",
    "import requests\n",
    "import json\n",
    "import uuid  # Import the uuid module\n",
    "from datetime import datetime, timezone  # Import datetime and timezone modules\n",
    "import time  # Import the time module\n"
   ],
   "outputs": [
    {
     "name": "stdout",
     "output_type": "stream",
     "text": [
      "Requirement already satisfied: pip in /Library/Frameworks/Python.framework/Versions/3.12/lib/python3.12/site-packages (25.0.1)\r\n",
      "\u001B[33mWARNING: Retrying (Retry(total=4, connect=None, read=None, redirect=None, status=None)) after connection broken by 'ReadTimeoutError(\"HTTPSConnectionPool(host='pypi.org', port=443): Read timed out. (read timeout=15)\")': /simple/pip/\u001B[0m\u001B[33m\r\n",
      "\u001B[0mRequirement already satisfied: requests in /Library/Frameworks/Python.framework/Versions/3.12/lib/python3.12/site-packages (2.32.3)\r\n",
      "Requirement already satisfied: charset-normalizer<4,>=2 in /Library/Frameworks/Python.framework/Versions/3.12/lib/python3.12/site-packages (from requests) (3.4.1)\r\n",
      "Requirement already satisfied: idna<4,>=2.5 in /Library/Frameworks/Python.framework/Versions/3.12/lib/python3.12/site-packages (from requests) (3.10)\r\n",
      "Requirement already satisfied: urllib3<3,>=1.21.1 in /Library/Frameworks/Python.framework/Versions/3.12/lib/python3.12/site-packages (from requests) (2.3.0)\r\n",
      "Requirement already satisfied: certifi>=2017.4.17 in /Library/Frameworks/Python.framework/Versions/3.12/lib/python3.12/site-packages (from requests) (2025.1.31)\r\n"
     ]
    }
   ],
   "execution_count": 4
  },
  {
   "cell_type": "code",
   "id": "90d10ae3923769c9",
   "metadata": {
    "ExecuteTime": {
     "end_time": "2025-04-04T17:23:57.158302Z",
     "start_time": "2025-04-04T17:23:57.124378Z"
    }
   },
   "source": [
    "#Localhost Server URL\n",
    "server_base_url = \"http://localhost:8080\"\n",
    "\n",
    "# Define the headers\n",
    "headers = {\n",
    "    #'Content-Type': 'application/json'  # Specify the content type as JSON\n",
    "}\n",
    "print(\"--------------Headers: --------------\\n\", headers)\n"
   ],
   "outputs": [
    {
     "name": "stdout",
     "output_type": "stream",
     "text": [
      "--------------Headers: --------------\n",
      " {}\n"
     ]
    }
   ],
   "execution_count": 5
  },
  {
   "cell_type": "markdown",
   "id": "1d0ed4148e7ac1d0",
   "metadata": {},
   "source": "## 1. Execute query request to ai"
  },
  {
   "cell_type": "code",
   "id": "bba55941318d0910",
   "metadata": {
    "ExecuteTime": {
     "end_time": "2025-04-04T17:24:22.287454Z",
     "start_time": "2025-04-04T17:24:16.591812Z"
    }
   },
   "source": [
    "endpoint = \"/ai/actorFilms\"\n",
    "url = f\"{server_base_url}{endpoint}\"\n",
    "\n",
    "params = {'message': 'Say hello in spanish', 'voice': 'Robert DeNiro'}\n",
    "\n",
    "# Send the POST request with raw JSON data\n",
    "response = requests.get(url, params=params)\n",
    "\n",
    "response.json() # Print the response JSON\n"
   ],
   "outputs": [
    {
     "data": {
      "text/plain": [
       "{'actor': 'Johnny Depp',\n",
       " 'movies': ['Pirates of the Caribbean: The Curse of the Black Pearl',\n",
       "  \"Pirates of the Caribbean: Dead Man's Chest\",\n",
       "  \"Pirates of the Caribbean: At World's End\",\n",
       "  'Pirates of the Caribbean: On Stranger Tides',\n",
       "  'Pirates of the Caribbean: Dead Men Tell No Tales',\n",
       "  'Edward Scissorhands',\n",
       "  'Sweeney Todd: The Demon Barber of Fleet Street',\n",
       "  'Alice in Wonderland',\n",
       "  'Fantastic Beasts: The Crimes of Grindelwald',\n",
       "  'Charlie and the Chocolate Factory']}"
      ]
     },
     "execution_count": 7,
     "metadata": {},
     "output_type": "execute_result"
    }
   ],
   "execution_count": 7
  },
  {
   "metadata": {},
   "cell_type": "markdown",
   "source": "## 2. Execute query request to ai and get entity response",
   "id": "1f9283ceafb783ad"
  },
  {
   "metadata": {
    "ExecuteTime": {
     "end_time": "2025-04-02T23:17:33.147247Z",
     "start_time": "2025-04-02T23:17:19.684672Z"
    }
   },
   "cell_type": "code",
   "source": [
    "endpoint = \"/ai/actorFilms\"\n",
    "url = f\"{server_base_url}{endpoint}\"\n",
    "\n",
    "params = {'actorName': 'Demy More'}\n",
    "\n",
    "# Send the POST request with raw JSON data\n",
    "response = requests.get(url, params=params)\n",
    "\n",
    "response.json() # Print the response JSON\n"
   ],
   "id": "6ef3662e1d6753eb",
   "outputs": [
    {
     "data": {
      "text/plain": [
       "{'actor': 'Demi Moore',\n",
       " 'movies': [\"St. Elmo's Fire\",\n",
       "  'Ghost',\n",
       "  'A Few Good Men',\n",
       "  'Disclosure',\n",
       "  'The Juror',\n",
       "  'G.I. Jane',\n",
       "  \"Charlie's Angels: Full Throttle\",\n",
       "  'Half Light',\n",
       "  'Margin Call',\n",
       "  'Blind',\n",
       "  'Corporate Animals',\n",
       "  'Rough Night']}"
      ]
     },
     "execution_count": 11,
     "metadata": {},
     "output_type": "execute_result"
    }
   ],
   "execution_count": 11
  },
  {
   "metadata": {},
   "cell_type": "markdown",
   "source": "## 3. Execute query request to ai and get clarity on request",
   "id": "d695aaaaff196eeb"
  },
  {
   "metadata": {
    "ExecuteTime": {
     "end_time": "2025-04-03T15:09:46.055455Z",
     "start_time": "2025-04-03T15:09:39.360679Z"
    }
   },
   "cell_type": "code",
   "source": [
    "endpoint = \"/ai/health-benefits\"\n",
    "url = f\"{server_base_url}{endpoint}\"\n",
    "\n",
    "# Send the POST request with raw JSON data\n",
    "response = requests.get(url)\n",
    "\n",
    "response.content # Print the response JSON"
   ],
   "id": "d589ac08644403a8",
   "outputs": [
    {
     "data": {
      "text/plain": [
       "b\"Arrr, matey! Owning a canine companion be a treasure trove of health benefits fer adults! Here be the top three, if ye be interested:\\n\\n1. **Boosted Mood and Reduced Stress**: Aye, them furry beasts have a way o' liftin' the spirits! Spendin' time with a pup can release those feel-good hormones, like oxytocin, and help chase away the blues. When ye stroke their fur and see them waggin' their tails, ye'll find yer troubles driftin' away like a ship on the horizon!\\n\\n2. **Increased Physical Activity**: Owning a dog be like havin' a trusty matey that keeps ye movin'! Whether it be walkin', runnin', or playin' fetch, them pooches encourage ye to get off yer keister and be active. Aye, regular exercise keeps yer heart strong and yer body fit, ready to face any storm!\\n\\n3. **Improved Social Connections**: Aye, havin' a dog can help ye forge new friendships! Walkin' yer furry mate can lead ye to meetin' other dog lovers, creatin' bonds and buildin' a community. It be a fine way to find camaraderie on the high seas of life, makin' ye feel less alone!\\n\\nSo there ye have it, matey! A dog be not just a pet, but a true companion fer yer health and happiness! Arrr! \\xf0\\x9f\\x8f\\xb4\\xe2\\x80\\x8d\\xe2\\x98\\xa0\\xef\\xb8\\x8f\\xf0\\x9f\\x90\\xbe\""
      ]
     },
     "execution_count": 3,
     "metadata": {},
     "output_type": "execute_result"
    }
   ],
   "execution_count": 3
  }
 ],
 "metadata": {
  "kernelspec": {
   "display_name": "Python 3",
   "language": "python",
   "name": "python3"
  },
  "language_info": {
   "codemirror_mode": {
    "name": "ipython",
    "version": 3
   },
   "file_extension": ".py",
   "mimetype": "text/x-python",
   "name": "python",
   "nbconvert_exporter": "python",
   "pygments_lexer": "ipython3",
   "version": "3.12.8"
  }
 },
 "nbformat": 5,
 "nbformat_minor": 9
}
